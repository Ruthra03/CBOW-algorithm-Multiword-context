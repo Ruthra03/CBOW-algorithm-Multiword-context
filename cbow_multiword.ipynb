{
  "cells": [
    {
      "cell_type": "markdown",
      "metadata": {
        "id": "view-in-github",
        "colab_type": "text"
      },
      "source": [
        "<a href=\"https://colab.research.google.com/github/Ruthra03/CBOW-algorithm-Multiword-context/blob/main/cbow_multiword.ipynb\" target=\"_parent\"><img src=\"https://colab.research.google.com/assets/colab-badge.svg\" alt=\"Open In Colab\"/></a>"
      ]
    },
    {
      "cell_type": "code",
      "execution_count": 1,
      "metadata": {
        "id": "XRhMDZwAaoBR"
      },
      "outputs": [],
      "source": [
        "import numpy as np\n",
        "import pandas as pd\n",
        "from collections import defaultdict\n",
        "from collections import Counter\n",
        "import matplotlib.pyplot as plt\n",
        "\n",
        "class CBOW:\n",
        "    def __init__(self, vocab_size,word_index, W1, W2, reverse_word_index, embedding_dim, hidden_dim, learning_rate=0.001):\n",
        "\n",
        "        self.vocab_size = vocab_size\n",
        "        self.embedding_dim = embedding_dim\n",
        "        self.hidden_dim = hidden_dim\n",
        "        self.learning_rate = learning_rate\n",
        "        self.word_index = word_index\n",
        "        self.reverse_word_index = reverse_word_index\n",
        "        # Initialize weights randomly or load pre-trained weights\n",
        "        self.W1 = np.random.rand(vocab_size, hidden_dim)\n",
        "        self.W2 = np.random.rand(hidden_dim, vocab_size)\n",
        "        #self.W1 = W1\n",
        "        #self.W2 = W2\n",
        "\n",
        "\n",
        "    def generate_one_hot(self, word_idx):\n",
        "        one_hot = np.zeros(self.vocab_size)\n",
        "        one_hot[int(word_idx)] = 1\n",
        "        return one_hot\n",
        "\n",
        "    def softmax(self, u):\n",
        "        exp_u = np.exp(u)\n",
        "        return exp_u / np.sum(exp_u)\n",
        "\n",
        "    def forward_pass(self, context_words, W1):\n",
        "        context_indices = [reverse_word_index[word] for word in context_words]\n",
        "        context_weights = [W1[int(index)] for index in context_indices]\n",
        "        h = np.mean(context_weights, axis = 0)\n",
        "        #print(np.shape(h))\n",
        "        u = np.dot(self.W2.T, h)\n",
        "        #print(np.shape(W2.T))\n",
        "        #print(np.shape(u))\n",
        "        output_probs = self.softmax(u)\n",
        "        return h, output_probs\n",
        "\n",
        "    def backward_pass(self, context, target, h, output_probs):\n",
        "        error_output = output_probs - target\n",
        "        C = len(context)\n",
        "        dW2 = np.outer(error_output, h)\n",
        "        error_hidden = np.dot(self.W2, error_output)\n",
        "        #dW1 = np.outer(error_hidden, context)\n",
        "        dW1_accumulated = np.zeros((embedding_dim, hidden_dim))\n",
        "        for con in context:\n",
        "            dW1 = np.outer(error_hidden, con)\n",
        "            dW1_accumulated += dW1.T\n",
        "        self.update_weights(dW2.T,(1/C)*(dW1_accumulated))\n",
        "\n",
        "    def update_weights(self, dW2, dW1):\n",
        "        self.W1 -= self.learning_rate * dW1\n",
        "        self.W2 -= self.learning_rate * dW2\n",
        "\n",
        "    def train(self, corpus, vocabulary=None, epochs = None):\n",
        "        losses = []\n",
        "        for epoch in range(epochs):\n",
        "            total_loss = 0.0\n",
        "            for sentence in corpus:\n",
        "                words_in_sentence = sentence.split()\n",
        "                target_word = words_in_sentence[-1].lower()\n",
        "                context_words = words_in_sentence[:-1]\n",
        "                context_words_lower = [word.lower() for word in context_words]\n",
        "                #print(context_words_lower)\n",
        "                context_vector = [self.generate_one_hot(self.reverse_word_index[word]) for word in context_words_lower]\n",
        "                context = [list(cont) for cont in context_vector]\n",
        "                #print(context)\n",
        "                h,output_probs = self.forward_pass(context_words_lower, W1)\n",
        "                #print(output_probs)\n",
        "\n",
        "                target = self.generate_one_hot(self.reverse_word_index[target_word])\n",
        "                #print(target)\n",
        "                j_star = int(target.argmax())\n",
        "\n",
        "                loss = -np.log(output_probs[j_star])  # E = - ln(y)\n",
        "                total_loss += loss\n",
        "                self.backward_pass(context, target, h, output_probs)\n",
        "\n",
        "            average_loss = total_loss / len(corpus)\n",
        "            losses.append(average_loss)\n",
        "        plt.plot(range(1, epochs + 1), losses, label='Average Loss')\n",
        "        plt.xlabel('Epochs')\n",
        "        plt.ylabel('Average Loss')\n",
        "        plt.title('Average Loss vs. Epochs')\n",
        "        plt.xticks(range(0, epochs + 1, 1000))  # Set x-axis ticks to be divisible by 1000\n",
        "        plt.legend()\n",
        "        plt.show()\n",
        "\n",
        "    def predict(self, input):\n",
        "            words_in_sentence = input.split()\n",
        "            context_words_lower = [word.lower() for word in words_in_sentence]\n",
        "            h,output_probs = self.forward_pass(context_words_lower, W1)\n",
        "            predicted_word_index = np.argmax(output_probs)\n",
        "            predicted_word = self.word_index[str(predicted_word_index)]\n",
        "\n",
        "            # Format the output probabilities as specified\n",
        "            #formatted_probs = [f\"{word}: {prob:.6f}\" for word, prob in zip(self.word_index.values(), output_probs)]\n",
        "            return predicted_word, output_probs"
      ]
    },
    {
      "cell_type": "code",
      "execution_count": 3,
      "metadata": {
        "colab": {
          "base_uri": "https://localhost:8080/",
          "height": 507
        },
        "id": "p7wWMP2eaPre",
        "outputId": "82726224-f104-4ea7-a4fd-6d99a8e4c28f"
      },
      "outputs": [
        {
          "output_type": "stream",
          "name": "stdout",
          "text": [
            "{'0': 'at', '1': 'the', '2': 'savings', '3': 'account', '4': 'bank', '5': 'cooperative', '6': 'personal', '7': 'loan'}\n",
            "{'at': '0', 'the': '1', 'savings': '2', 'account': '3', 'bank': '4', 'cooperative': '5', 'personal': '6', 'loan': '7'}\n"
          ]
        },
        {
          "output_type": "display_data",
          "data": {
            "text/plain": [
              "<Figure size 640x480 with 1 Axes>"
            ],
            "image/png": "[encoded data removed]"
          },
          "metadata": {}
        }
      ],
      "source": [
        "\n",
        "corpus = [\n",
        "    \"Savings account at the bank\",\n",
        "    \"Savings account at the cooperative\",\n",
        "    \"Personal loan at the bank\",\n",
        "    \"Personal loan at the cooperative\"\n",
        "]\n",
        "epochs = 55000\n",
        "text_corpus = ' '.join(corpus)\n",
        "# Tokenize the text into words\n",
        "words = text_corpus.split()\n",
        "lower_words = [word.lower() for word in words]\n",
        "# Count the occurrences of each word\n",
        "word_counts = Counter(lower_words)\n",
        "\n",
        "#print(word_counts)\n",
        "# Sort words by their counts in descending order\n",
        "sorted_words = sorted(word_counts, key=word_counts.get, reverse=True)\n",
        "#print(sorted_words)\n",
        "\n",
        "# Create a dictionary with unique words and assign an index\n",
        "word_index = {'0': sorted_words[0]}  # Assign '0' to the most repeated word\n",
        "word_index.update({str(i + 1): word for i, word in enumerate(sorted_words[1:])})\n",
        "reverse_word_index = {value: key for key, value in word_index.items()}\n",
        "\n",
        "print(word_index)\n",
        "print(reverse_word_index)\n",
        "\n",
        "vocab_size = len(word_counts)\n",
        "embedding_dim = vocab_size\n",
        "hidden_dim = 3\n",
        "\n",
        "#W1 = np.random.rand(vocab_size, hidden_dim)\n",
        "#W2 = np.random.rand(hidden_dim, vocab_size)\n",
        "W1 =np.array([[0.46160097, 0.74899148, 0.14187272],\n",
        " [0.94515133, 0.33834598, 0.72275773],\n",
        " [0.06740351, 0.7846799, 0.69933224],\n",
        " [0.71270929, 0.54950206, 0.79055757],\n",
        " [0.25694203, 0.00418501, 0.08291655],\n",
        " [0.01766039, 0.39056123, 0.05566129],\n",
        " [0.65145548, 0.25379293, 0.20951265],\n",
        " [0.92299655, 0.32217441, 0.80460898],\n",
        " [0.69445758, 0.41962172, 0.90442852],\n",
        " [0.02898729, 0.70142395, 0.00113795],\n",
        " [0.10016165, 0.19304378, 0.14052748],\n",
        " [0.65303324, 0.48022398, 0.89423154]])\n",
        "W2 = np.array([[0.43322864, 0.21848414, 0.60521956, 0.93159116, 0.71309709, 0.82640376, 0.4329049, 0.57828907, 0.90898569, 0.23259709, 0.25001241, 0.77770293],\n",
        " [0.73555021, 0.32475317, 0.49706922, 0.942417, 0.6227863, 0.43097231, 0.1931593,  0.03735458, 0.22277027, 0.44404313, 0.16870695, 0.94300161],\n",
        "  [0.58103576, 0.7106269, 0.57265739, 0.796869, 0.18779333, 0.28260036, 0.78978276, 0.31641161, 0.255798, 0.58657335, 0.52959075, 0.4919738 ]])\n",
        "#print(W1)\n",
        "#print(W2)\n",
        "\n",
        "cbow = CBOW(vocab_size, word_index, W1, W2, reverse_word_index, embedding_dim=embedding_dim, hidden_dim=hidden_dim)\n",
        "\n",
        "cbow.train(corpus, sorted_words, epochs)"
      ]
    },
    {
      "cell_type": "code",
      "execution_count": 4,
      "metadata": {
        "colab": {
          "base_uri": "https://localhost:8080/"
        },
        "id": "Aix6WvU7bAdk",
        "outputId": "1e083521-a945-4d9a-930a-850b12db781d"
      },
      "outputs": [
        {
          "output_type": "stream",
          "name": "stdout",
          "text": [
            "Predicted word after 'Personal loan at the': cooperative\n",
            "Probabilities:\n",
            "P(at|Personal loan at the)= 0.0013341493040584015\n",
            "P(the|Personal loan at the)= 0.0014153193078867967\n",
            "P(savings|Personal loan at the)= 0.0013666881644400783\n",
            "P(account|Personal loan at the)= 0.0014305112727539776\n",
            "P(bank|Personal loan at the)= 0.49476379504940016\n",
            "P(cooperative|Personal loan at the)= 0.4972142124354837\n",
            "P(personal|Personal loan at the)= 0.0012746677207345597\n",
            "P(loan|Personal loan at the)= 0.0012006567452424789\n"
          ]
        }
      ],
      "source": [
        "context = \"Personal loan at the\"\n",
        "predicted_word, probs = cbow.predict(context)\n",
        "print(f\"Predicted word after '{context}': {predicted_word}\")\n",
        "print(\"Probabilities:\")\n",
        "for i in range(vocab_size):\n",
        "  print(f\"P({word_index[str(i)]}|{context})= {probs[i]}\")"
      ]
    },
    {
      "cell_type": "code",
      "execution_count": null,
      "metadata": {
        "id": "YfR802yxbDlQ"
      },
      "outputs": [],
      "source": []
    }
  ],
  "metadata": {
    "colab": {
      "provenance": [],
      "authorship_tag": "ABX9TyP4c4PwHSpeudXFHABl0wsQ",
      "include_colab_link": true
    },
    "kernelspec": {
      "display_name": "Python 3",
      "name": "python3"
    },
    "language_info": {
      "name": "python"
    }
  },
  "nbformat": 4,
  "nbformat_minor": 0
}